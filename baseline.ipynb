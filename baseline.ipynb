{
 "nbformat": 4,
 "nbformat_minor": 0,
 "metadata": {
  "colab": {
   "name": "baseline.ipynb",
   "provenance": [],
   "mount_file_id": "1L1-sVwdBCC4hMRTmHP78LE8LnYWafZXo",
   "authorship_tag": "ABX9TyPycjTER7k7IZQNrAbPfcSX",
   "include_colab_link": true
  },
  "kernelspec": {
   "name": "python3",
   "display_name": "Python 3"
  },
  "language_info": {
   "name": "python"
  }
 },
 "cells": [
  {
   "cell_type": "markdown",
   "metadata": {
    "id": "view-in-github",
    "colab_type": "text"
   },
   "source": [
    "<a href=\"https://colab.research.google.com/github/kasa10/Digital_Team_Gazpromneft_MIPT/blob/main/baseline.ipynb\" target=\"_parent\"><img src=\"https://colab.research.google.com/assets/colab-badge.svg\" alt=\"Open In Colab\"/></a>"
   ]
  },
  {
   "cell_type": "code",
   "execution_count": 1,
   "metadata": {
    "colab": {
     "base_uri": "https://localhost:8080/"
    },
    "id": "yVzJetqEfeF_",
    "outputId": "a1c7d8b6-8766-4461-ef80-b79b29aa5a10"
   },
   "outputs": [
    {
     "output_type": "stream",
     "name": "stdout",
     "text": [
      "Размер train таблицы (44981, 20)\n",
      "Размер test таблицы (22155, 20)\n",
      "Количество уникальных скважин в train таблице: 106\n",
      "Количество уникальных скважин в test таблице: 106\n",
      "         datetime  Номер скважины  Дебит нефти  Давление забойное         x  \\\n",
      "39375  1992-03-18              61    12.608500          76.999421  15133.22   \n",
      "38877  1990-11-06              61     8.382000          34.534516  15133.22   \n",
      "39100  1991-06-17              61    15.605000          33.829684  15133.22   \n",
      "39154  1991-08-10              61    11.530000          32.084234  15133.22   \n",
      "39175  1991-08-31              61    10.479000          32.225702  15133.22   \n",
      "...           ...             ...          ...                ...       ...   \n",
      "39298  1992-01-01              61     7.908000          31.461979  15133.22   \n",
      "39081  1991-05-29              61    13.315000          34.222931  15133.22   \n",
      "39384  1992-03-27              61    11.324800          53.463181  15133.22   \n",
      "39353  1992-02-25              61     8.194000                NaN  15133.22   \n",
      "39099  1991-06-16              61    15.549286          33.869936  15133.22   \n",
      "\n",
      "              y  Объем жидкости  Объем нефти  Активная мощность (ТМ)  \\\n",
      "39375  11882.11             NaN          NaN               47.444223   \n",
      "38877  11882.11             NaN          NaN               52.166667   \n",
      "39100  11882.11             NaN          NaN               49.590323   \n",
      "39154  11882.11             NaN          NaN               48.378261   \n",
      "39175  11882.11             NaN          NaN               54.997222   \n",
      "...         ...             ...          ...                     ...   \n",
      "39298  11882.11             NaN          NaN               61.733333   \n",
      "39081  11882.11             NaN          NaN               46.480000   \n",
      "39384  11882.11             NaN          NaN               50.094801   \n",
      "39353  11882.11             NaN          NaN                     NaN   \n",
      "39099  11882.11             NaN          NaN               49.906452   \n",
      "\n",
      "       Время работы (ТМ)  Газовый фактор рабочий (ТМ)  Давление буферное  \\\n",
      "39375           8.577222                      173.775                NaN   \n",
      "38877           6.079167                      392.751               18.0   \n",
      "39100           6.148889                          NaN               19.0   \n",
      "39154           7.487778                          NaN               16.0   \n",
      "39175           4.358611                     1782.287               16.0   \n",
      "...                  ...                          ...                ...   \n",
      "39298           5.023611                          NaN               16.0   \n",
      "39081           5.870278                          NaN                NaN   \n",
      "39384          10.916944                       46.559                NaN   \n",
      "39353                NaN                          NaN                NaN   \n",
      "39099           4.334444                          NaN                NaN   \n",
      "\n",
      "       Давление забойное от Hд  Давление забойное от Pпр  \\\n",
      "39375                76.999421                       NaN   \n",
      "38877                34.534516                       NaN   \n",
      "39100                33.829684                       NaN   \n",
      "39154                32.084234                       NaN   \n",
      "39175                32.225702                       NaN   \n",
      "...                        ...                       ...   \n",
      "39298                31.461979                       NaN   \n",
      "39081                34.222931                       NaN   \n",
      "39384                53.463181                 38.879339   \n",
      "39353                29.931374                       NaN   \n",
      "39099                33.869936                       NaN   \n",
      "\n",
      "       Давление линейное (ТМ)  Давление на входе ЭЦН (ТМ)  Дебит газа (ТМ)  \\\n",
      "39375               14.808269                   38.395850              NaN   \n",
      "38877                1.755337                    2.708333            13.40   \n",
      "39100               14.011727                         NaN           434.50   \n",
      "39154               14.522665                         NaN              NaN   \n",
      "39175               14.946476                    5.000000          4962.00   \n",
      "...                       ...                         ...              ...   \n",
      "39298               11.603746                         NaN              NaN   \n",
      "39081               13.344900                    5.000000              NaN   \n",
      "39384               13.947678                   26.998917           837.25   \n",
      "39353               12.218251                         NaN              NaN   \n",
      "39099               13.865971                         NaN              NaN   \n",
      "\n",
      "       Дебит газа попутного  Дебит жидкости (ТМ)  Коэффициент мощности (ТМ)  \n",
      "39375                   NaN                  NaN                  88.038241  \n",
      "38877                 22.20            22.200000                  53.166667  \n",
      "39100                 20.00            18.333333                  58.483871  \n",
      "39154                 21.00            21.000000                  56.458333  \n",
      "39175                 18.33            18.333333                  58.472222  \n",
      "...                     ...                  ...                        ...  \n",
      "39298                 13.00            13.000000                  63.777778  \n",
      "39081                   NaN                  NaN                  57.225000  \n",
      "39384                   NaN            27.142857                  87.670181  \n",
      "39353                   NaN                  NaN                        NaN  \n",
      "39099                   NaN                  NaN                  56.774194  \n",
      "\n",
      "[407 rows x 20 columns]\n",
      "Размер таблицы с данными для одной скважины (407, 20)\n"
     ]
    }
   ],
   "source": [
    "import pandas as pd\n",
    "from sklearn.model_selection import train_test_split\n",
    "df=pd.read_csv('/content/drive/MyDrive/train.csv')\n",
    "train, test = train_test_split(df, test_size=0.33, random_state=42)\n",
    "\n",
    "def explore_data():\n",
    "    \"\"\" Make some visualizations and collect statistics about data in files \"\"\"\n",
    "\n",
    "    print(f'Размер train таблицы {train.shape}')\n",
    "    print(f'Размер test таблицы {test.shape}')\n",
    "\n",
    "    print(f'Количество уникальных скважин в train таблице: {len(train[\"Номер скважины\"].unique())}')\n",
    "    print(f'Количество уникальных скважин в test таблице: {len(test[\"Номер скважины\"].unique())}')\n",
    "\n",
    "    wells = list(train[\"Номер скважины\"].unique())\n",
    "    well_df = train[train[\"Номер скважины\"] == wells[0]]\n",
    "    print(well_df)\n",
    "    print(f'Размер таблицы с данными для одной скважины {well_df.shape}')\n",
    "\n",
    "\n",
    "if __name__ == '__main__':\n",
    "    explore_data()"
   ]
  },
  {
   "cell_type": "code",
   "source": [
    "pip install fedot"
   ],
   "metadata": {
    "colab": {
     "base_uri": "https://localhost:8080/",
     "height": 1000
    },
    "id": "i32pEu4Qieh4",
    "outputId": "0ddbf193-854e-4b23-f644-661f3a4869f9"
   },
   "execution_count": 2,
   "outputs": [
    {
     "output_type": "stream",
     "name": "stdout",
     "text": [
      "Looking in indexes: https://pypi.org/simple, https://us-python.pkg.dev/colab-wheels/public/simple/\n",
      "Requirement already satisfied: fedot in /usr/local/lib/python3.7/dist-packages (0.5.2)\n",
      "Requirement already satisfied: joblib>=0.17.* in /usr/local/lib/python3.7/dist-packages (from fedot) (1.1.0)\n",
      "Requirement already satisfied: typing>=3.7.* in /usr/local/lib/python3.7/dist-packages (from fedot) (3.7.4.3)\n",
      "Requirement already satisfied: SALib>=1.3.* in /usr/local/lib/python3.7/dist-packages (from fedot) (1.4.6b1)\n",
      "Requirement already satisfied: testfixtures>=6.18.* in /usr/local/lib/python3.7/dist-packages (from fedot) (6.18.5)\n",
      "Requirement already satisfied: requests>=2.* in /usr/local/lib/python3.7/dist-packages (from fedot) (2.23.0)\n",
      "Requirement already satisfied: tqdm in /usr/local/lib/python3.7/dist-packages (from fedot) (4.64.0)\n",
      "Requirement already satisfied: catboost>=0.25.* in /usr/local/lib/python3.7/dist-packages (from fedot) (1.0.6)\n",
      "Requirement already satisfied: scikit-learn>=1.0.0 in /usr/local/lib/python3.7/dist-packages (from fedot) (1.0.2)\n",
      "Requirement already satisfied: tensorflow<2.5.0,>=2.2.0 in /usr/local/lib/python3.7/dist-packages (from fedot) (2.4.4)\n",
      "Requirement already satisfied: anytree>=2.8.* in /usr/local/lib/python3.7/dist-packages (from fedot) (2.8.0)\n",
      "Requirement already satisfied: nltk>=3.5 in /usr/local/lib/python3.7/dist-packages (from fedot) (3.7)\n",
      "Requirement already satisfied: seaborn>=0.9.* in /usr/local/lib/python3.7/dist-packages (from fedot) (0.11.2)\n",
      "Requirement already satisfied: hyperopt==0.2.5 in /usr/local/lib/python3.7/dist-packages (from fedot) (0.2.5)\n",
      "Requirement already satisfied: numpy>=1.19.* in /usr/local/lib/python3.7/dist-packages (from fedot) (1.19.5)\n",
      "Requirement already satisfied: Pillow>=8.2.* in /usr/local/lib/python3.7/dist-packages (from fedot) (9.1.1)\n",
      "Requirement already satisfied: lightgbm>=2.3.* in /usr/local/lib/python3.7/dist-packages (from fedot) (3.3.2)\n",
      "Collecting pandas<1.3.0,>=1.1.0\n",
      "  Using cached pandas-1.2.5-cp37-cp37m-manylinux_2_5_x86_64.manylinux1_x86_64.whl (9.9 MB)\n",
      "Requirement already satisfied: xgboost>=1.3.0 in /usr/local/lib/python3.7/dist-packages (from fedot) (1.6.1)\n",
      "Requirement already satisfied: pytest>=6.2.* in /usr/local/lib/python3.7/dist-packages (from fedot) (7.1.2)\n",
      "Requirement already satisfied: deap>=1.3.* in /usr/local/lib/python3.7/dist-packages (from fedot) (1.3.1)\n",
      "Requirement already satisfied: statsmodels>=0.12.0 in /usr/local/lib/python3.7/dist-packages (from fedot) (0.13.2)\n",
      "Requirement already satisfied: torch>=1.9.0 in /usr/local/lib/python3.7/dist-packages (from fedot) (1.11.0+cu113)\n",
      "Requirement already satisfied: networkx>=2.4 in /usr/local/lib/python3.7/dist-packages (from fedot) (2.6.3)\n",
      "Requirement already satisfied: matplotlib==3.0.2 in /usr/local/lib/python3.7/dist-packages (from fedot) (3.0.2)\n",
      "Requirement already satisfied: ete3>=3.1.* in /usr/local/lib/python3.7/dist-packages (from fedot) (3.1.2)\n",
      "Requirement already satisfied: gensim>=4.1.2 in /usr/local/lib/python3.7/dist-packages (from fedot) (4.2.0)\n",
      "Requirement already satisfied: imageio<=2.10,>=2.8 in /usr/local/lib/python3.7/dist-packages (from fedot) (2.9.0)\n",
      "Requirement already satisfied: scikit-optimize>=0.7.4 in /usr/local/lib/python3.7/dist-packages (from fedot) (0.9.0)\n",
      "Requirement already satisfied: scipy in /usr/local/lib/python3.7/dist-packages (from hyperopt==0.2.5->fedot) (1.4.1)\n",
      "Requirement already satisfied: cloudpickle in /usr/local/lib/python3.7/dist-packages (from hyperopt==0.2.5->fedot) (1.3.0)\n",
      "Requirement already satisfied: six in /usr/local/lib/python3.7/dist-packages (from hyperopt==0.2.5->fedot) (1.15.0)\n",
      "Requirement already satisfied: future in /usr/local/lib/python3.7/dist-packages (from hyperopt==0.2.5->fedot) (0.16.0)\n",
      "Requirement already satisfied: kiwisolver>=1.0.1 in /usr/local/lib/python3.7/dist-packages (from matplotlib==3.0.2->fedot) (1.4.3)\n",
      "Requirement already satisfied: python-dateutil>=2.1 in /usr/local/lib/python3.7/dist-packages (from matplotlib==3.0.2->fedot) (2.8.2)\n",
      "Requirement already satisfied: cycler>=0.10 in /usr/local/lib/python3.7/dist-packages (from matplotlib==3.0.2->fedot) (0.11.0)\n",
      "Requirement already satisfied: pyparsing!=2.0.4,!=2.1.2,!=2.1.6,>=2.0.1 in /usr/local/lib/python3.7/dist-packages (from matplotlib==3.0.2->fedot) (3.0.9)\n",
      "Requirement already satisfied: graphviz in /usr/local/lib/python3.7/dist-packages (from catboost>=0.25.*->fedot) (0.10.1)\n",
      "Requirement already satisfied: plotly in /usr/local/lib/python3.7/dist-packages (from catboost>=0.25.*->fedot) (5.5.0)\n",
      "Requirement already satisfied: smart-open>=1.8.1 in /usr/local/lib/python3.7/dist-packages (from gensim>=4.1.2->fedot) (5.2.1)\n",
      "Requirement already satisfied: typing-extensions in /usr/local/lib/python3.7/dist-packages (from kiwisolver>=1.0.1->matplotlib==3.0.2->fedot) (3.7.4.3)\n",
      "Requirement already satisfied: wheel in /usr/local/lib/python3.7/dist-packages (from lightgbm>=2.3.*->fedot) (0.37.1)\n",
      "Requirement already satisfied: regex>=2021.8.3 in /usr/local/lib/python3.7/dist-packages (from nltk>=3.5->fedot) (2022.6.2)\n",
      "Requirement already satisfied: click in /usr/local/lib/python3.7/dist-packages (from nltk>=3.5->fedot) (7.1.2)\n",
      "Requirement already satisfied: pytz>=2017.3 in /usr/local/lib/python3.7/dist-packages (from pandas<1.3.0,>=1.1.0->fedot) (2022.1)\n",
      "Requirement already satisfied: attrs>=19.2.0 in /usr/local/lib/python3.7/dist-packages (from pytest>=6.2.*->fedot) (21.4.0)\n",
      "Requirement already satisfied: py>=1.8.2 in /usr/local/lib/python3.7/dist-packages (from pytest>=6.2.*->fedot) (1.11.0)\n",
      "Requirement already satisfied: iniconfig in /usr/local/lib/python3.7/dist-packages (from pytest>=6.2.*->fedot) (1.1.1)\n",
      "Requirement already satisfied: pluggy<2.0,>=0.12 in /usr/local/lib/python3.7/dist-packages (from pytest>=6.2.*->fedot) (1.0.0)\n",
      "Requirement already satisfied: importlib-metadata>=0.12 in /usr/local/lib/python3.7/dist-packages (from pytest>=6.2.*->fedot) (4.11.4)\n",
      "Requirement already satisfied: tomli>=1.0.0 in /usr/local/lib/python3.7/dist-packages (from pytest>=6.2.*->fedot) (2.0.1)\n",
      "Requirement already satisfied: packaging in /usr/local/lib/python3.7/dist-packages (from pytest>=6.2.*->fedot) (21.3)\n",
      "Requirement already satisfied: zipp>=0.5 in /usr/local/lib/python3.7/dist-packages (from importlib-metadata>=0.12->pytest>=6.2.*->fedot) (3.8.0)\n",
      "Requirement already satisfied: chardet<4,>=3.0.2 in /usr/local/lib/python3.7/dist-packages (from requests>=2.*->fedot) (3.0.4)\n",
      "Requirement already satisfied: urllib3!=1.25.0,!=1.25.1,<1.26,>=1.21.1 in /usr/local/lib/python3.7/dist-packages (from requests>=2.*->fedot) (1.24.3)\n",
      "Requirement already satisfied: certifi>=2017.4.17 in /usr/local/lib/python3.7/dist-packages (from requests>=2.*->fedot) (2022.6.15)\n",
      "Requirement already satisfied: idna<3,>=2.5 in /usr/local/lib/python3.7/dist-packages (from requests>=2.*->fedot) (2.10)\n",
      "Requirement already satisfied: setuptools in /usr/local/lib/python3.7/dist-packages (from SALib>=1.3.*->fedot) (57.4.0)\n",
      "Requirement already satisfied: pathos in /usr/local/lib/python3.7/dist-packages (from SALib>=1.3.*->fedot) (0.2.9)\n",
      "Requirement already satisfied: threadpoolctl>=2.0.0 in /usr/local/lib/python3.7/dist-packages (from scikit-learn>=1.0.0->fedot) (3.1.0)\n",
      "Requirement already satisfied: pyaml>=16.9 in /usr/local/lib/python3.7/dist-packages (from scikit-optimize>=0.7.4->fedot) (21.10.1)\n",
      "Requirement already satisfied: PyYAML in /usr/local/lib/python3.7/dist-packages (from pyaml>=16.9->scikit-optimize>=0.7.4->fedot) (3.13)\n",
      "Requirement already satisfied: patsy>=0.5.2 in /usr/local/lib/python3.7/dist-packages (from statsmodels>=0.12.0->fedot) (0.5.2)\n",
      "Requirement already satisfied: termcolor~=1.1.0 in /usr/local/lib/python3.7/dist-packages (from tensorflow<2.5.0,>=2.2.0->fedot) (1.1.0)\n",
      "Requirement already satisfied: tensorflow-estimator<2.5.0,>=2.4.0 in /usr/local/lib/python3.7/dist-packages (from tensorflow<2.5.0,>=2.2.0->fedot) (2.4.0)\n",
      "Requirement already satisfied: opt-einsum~=3.3.0 in /usr/local/lib/python3.7/dist-packages (from tensorflow<2.5.0,>=2.2.0->fedot) (3.3.0)\n",
      "Requirement already satisfied: wrapt~=1.12.1 in /usr/local/lib/python3.7/dist-packages (from tensorflow<2.5.0,>=2.2.0->fedot) (1.12.1)\n",
      "Requirement already satisfied: protobuf>=3.9.2 in /usr/local/lib/python3.7/dist-packages (from tensorflow<2.5.0,>=2.2.0->fedot) (3.17.3)\n",
      "Requirement already satisfied: gast==0.3.3 in /usr/local/lib/python3.7/dist-packages (from tensorflow<2.5.0,>=2.2.0->fedot) (0.3.3)\n",
      "Requirement already satisfied: keras-preprocessing~=1.1.2 in /usr/local/lib/python3.7/dist-packages (from tensorflow<2.5.0,>=2.2.0->fedot) (1.1.2)\n",
      "Requirement already satisfied: h5py~=2.10.0 in /usr/local/lib/python3.7/dist-packages (from tensorflow<2.5.0,>=2.2.0->fedot) (2.10.0)\n",
      "Requirement already satisfied: tensorboard~=2.4 in /usr/local/lib/python3.7/dist-packages (from tensorflow<2.5.0,>=2.2.0->fedot) (2.8.0)\n",
      "Requirement already satisfied: absl-py~=0.10 in /usr/local/lib/python3.7/dist-packages (from tensorflow<2.5.0,>=2.2.0->fedot) (0.15.0)\n",
      "Requirement already satisfied: astunparse~=1.6.3 in /usr/local/lib/python3.7/dist-packages (from tensorflow<2.5.0,>=2.2.0->fedot) (1.6.3)\n",
      "Requirement already satisfied: grpcio~=1.32.0 in /usr/local/lib/python3.7/dist-packages (from tensorflow<2.5.0,>=2.2.0->fedot) (1.32.0)\n",
      "Requirement already satisfied: google-pasta~=0.2 in /usr/local/lib/python3.7/dist-packages (from tensorflow<2.5.0,>=2.2.0->fedot) (0.2.0)\n",
      "Requirement already satisfied: flatbuffers~=1.12.0 in /usr/local/lib/python3.7/dist-packages (from tensorflow<2.5.0,>=2.2.0->fedot) (1.12)\n",
      "Requirement already satisfied: markdown>=2.6.8 in /usr/local/lib/python3.7/dist-packages (from tensorboard~=2.4->tensorflow<2.5.0,>=2.2.0->fedot) (3.3.7)\n",
      "Requirement already satisfied: werkzeug>=0.11.15 in /usr/local/lib/python3.7/dist-packages (from tensorboard~=2.4->tensorflow<2.5.0,>=2.2.0->fedot) (1.0.1)\n",
      "Requirement already satisfied: tensorboard-plugin-wit>=1.6.0 in /usr/local/lib/python3.7/dist-packages (from tensorboard~=2.4->tensorflow<2.5.0,>=2.2.0->fedot) (1.8.1)\n",
      "Requirement already satisfied: tensorboard-data-server<0.7.0,>=0.6.0 in /usr/local/lib/python3.7/dist-packages (from tensorboard~=2.4->tensorflow<2.5.0,>=2.2.0->fedot) (0.6.1)\n",
      "Requirement already satisfied: google-auth<3,>=1.6.3 in /usr/local/lib/python3.7/dist-packages (from tensorboard~=2.4->tensorflow<2.5.0,>=2.2.0->fedot) (1.35.0)\n",
      "Requirement already satisfied: google-auth-oauthlib<0.5,>=0.4.1 in /usr/local/lib/python3.7/dist-packages (from tensorboard~=2.4->tensorflow<2.5.0,>=2.2.0->fedot) (0.4.6)\n",
      "Requirement already satisfied: rsa<5,>=3.1.4 in /usr/local/lib/python3.7/dist-packages (from google-auth<3,>=1.6.3->tensorboard~=2.4->tensorflow<2.5.0,>=2.2.0->fedot) (4.8)\n",
      "Requirement already satisfied: pyasn1-modules>=0.2.1 in /usr/local/lib/python3.7/dist-packages (from google-auth<3,>=1.6.3->tensorboard~=2.4->tensorflow<2.5.0,>=2.2.0->fedot) (0.2.8)\n",
      "Requirement already satisfied: cachetools<5.0,>=2.0.0 in /usr/local/lib/python3.7/dist-packages (from google-auth<3,>=1.6.3->tensorboard~=2.4->tensorflow<2.5.0,>=2.2.0->fedot) (4.2.4)\n",
      "Requirement already satisfied: requests-oauthlib>=0.7.0 in /usr/local/lib/python3.7/dist-packages (from google-auth-oauthlib<0.5,>=0.4.1->tensorboard~=2.4->tensorflow<2.5.0,>=2.2.0->fedot) (1.3.1)\n",
      "Requirement already satisfied: pyasn1<0.5.0,>=0.4.6 in /usr/local/lib/python3.7/dist-packages (from pyasn1-modules>=0.2.1->google-auth<3,>=1.6.3->tensorboard~=2.4->tensorflow<2.5.0,>=2.2.0->fedot) (0.4.8)\n",
      "Requirement already satisfied: oauthlib>=3.0.0 in /usr/local/lib/python3.7/dist-packages (from requests-oauthlib>=0.7.0->google-auth-oauthlib<0.5,>=0.4.1->tensorboard~=2.4->tensorflow<2.5.0,>=2.2.0->fedot) (3.2.0)\n",
      "Requirement already satisfied: ppft>=1.7.6.5 in /usr/local/lib/python3.7/dist-packages (from pathos->SALib>=1.3.*->fedot) (1.7.6.5)\n",
      "Requirement already satisfied: multiprocess>=0.70.13 in /usr/local/lib/python3.7/dist-packages (from pathos->SALib>=1.3.*->fedot) (0.70.13)\n",
      "Requirement already satisfied: pox>=0.3.1 in /usr/local/lib/python3.7/dist-packages (from pathos->SALib>=1.3.*->fedot) (0.3.1)\n",
      "Requirement already satisfied: dill>=0.3.5.1 in /usr/local/lib/python3.7/dist-packages (from pathos->SALib>=1.3.*->fedot) (0.3.5.1)\n",
      "Requirement already satisfied: tenacity>=6.2.0 in /usr/local/lib/python3.7/dist-packages (from plotly->catboost>=0.25.*->fedot) (8.0.1)\n",
      "Installing collected packages: pandas\n",
      "  Attempting uninstall: pandas\n",
      "    Found existing installation: pandas 1.3.0\n",
      "    Uninstalling pandas-1.3.0:\n",
      "      Successfully uninstalled pandas-1.3.0\n",
      "\u001B[31mERROR: pip's dependency resolver does not currently take into account all the packages that are installed. This behaviour is the source of the following dependency conflicts.\n",
      "xarray-einstats 0.2.2 requires numpy>=1.21, but you have numpy 1.19.5 which is incompatible.\n",
      "plotnine 0.6.0 requires matplotlib>=3.1.1, but you have matplotlib 3.0.2 which is incompatible.\n",
      "mizani 0.6.0 requires matplotlib>=3.1.1, but you have matplotlib 3.0.2 which is incompatible.\u001B[0m\n",
      "Successfully installed pandas-1.2.5\n"
     ]
    },
    {
     "output_type": "display_data",
     "data": {
      "application/vnd.colab-display-data+json": {
       "pip_warning": {
        "packages": [
         "pandas"
        ]
       }
      }
     },
     "metadata": {}
    }
   ]
  },
  {
   "cell_type": "code",
   "source": [],
   "metadata": {
    "id": "aoXlJg3owi28"
   },
   "execution_count": null,
   "outputs": []
  },
  {
   "cell_type": "code",
   "source": [
    "import pandas as pd\n",
    "import numpy as np\n",
    "\n",
    "from fedot.api.main import Fedot\n",
    "from fedot.core.repository.tasks import TsForecastingParams\n",
    "from tqdm import tqdm\n",
    "\n",
    "FORECAST_HORIZON = 90\n",
    "\n",
    "\n",
    "def make_fit_predict(historical_values: pd.DataFrame,\n",
    "                     forecast_horizon: int = FORECAST_HORIZON):\n",
    "    \"\"\"\n",
    "    Используется одномерный временной ряд для обучения FEDOT модели\n",
    "    Затем используется временной ряд как предыстория для формирования прогноза\n",
    "    в будущее\n",
    "    \"\"\"\n",
    "    time_series = np.array(historical_values[\"Дебит нефти\"])\n",
    "\n",
    "    model = Fedot(problem='ts_forecasting',\n",
    "                  task_params=TsForecastingParams(forecast_length=forecast_horizon),\n",
    "                  timeout=0.5, preset='fast_train', n_jobs=-1)\n",
    "\n",
    "    # run AutoML model design in the same way\n",
    "    pipeline = model.fit(features=time_series, target=time_series,\n",
    "                         predefined_model='auto')\n",
    "    forecast = model.predict(time_series)\n",
    "\n",
    "    # Generate pipeline with datetime and predicted column\n",
    "    date_range = pd.date_range(start='1992-04-11', freq='1D', periods=FORECAST_HORIZON)\n",
    "    forecast_df = pd.DataFrame({'datetime': date_range, 'forecast': forecast})\n",
    "    return forecast_df\n",
    "\n",
    "\n",
    "def launch_baseline():\n",
    "    train_df = pd.read_csv('/content/drive/MyDrive/train.csv')\n",
    "    wells = list(train_df[\"Номер скважины\"].unique())\n",
    "\n",
    "    all_forecasts = []\n",
    "    with tqdm(total=len(wells)) as pbar:\n",
    "        for well in wells:\n",
    "            well_df = train_df[train_df[\"Номер скважины\"] == well]\n",
    "\n",
    "            # Make predictions with FEDOT framework\n",
    "            forecats_df = make_fit_predict(well_df)\n",
    "            forecats_df[\"Номер скважины\"] = [well] * len(forecats_df)\n",
    "            all_forecasts.append(forecats_df)\n",
    "\n",
    "            pbar.update(1)\n",
    "\n",
    "    all_forecasts = pd.concat(all_forecasts)\n",
    "    all_forecasts.to_csv('baseline_forecast.csv', index=False)\n",
    "\n",
    "\n",
    "if __name__ == '__main__':\n",
    "    launch_baseline()"
   ],
   "metadata": {
    "colab": {
     "base_uri": "https://localhost:8080/"
    },
    "id": "fMWS8dC7hvW5",
    "outputId": "943d7134-3e85-4934-b305-ba7daf10e53b"
   },
   "execution_count": 4,
   "outputs": [
    {
     "output_type": "stream",
     "name": "stderr",
     "text": [
      "100%|██████████| 106/106 [01:16<00:00,  1.39it/s]\n"
     ]
    }
   ]
  },
  {
   "cell_type": "code",
   "source": [],
   "metadata": {
    "id": "soMbyl-BrRPI"
   },
   "execution_count": 4,
   "outputs": []
  },
  {
   "cell_type": "code",
   "source": [
    "import os\n",
    "from pathlib import Path\n",
    "import pandas as pd\n",
    "import numpy as np\n",
    "import matplotlib.pyplot as plt\n",
    "\n",
    "import warnings\n",
    "warnings.filterwarnings('ignore')\n",
    "\n",
    "from sklearn.metrics import mean_squared_error\n",
    "from tqdm import tqdm\n",
    "\n",
    "\n",
    "def get_project_path() -> str:\n",
    "    return Path(__file__).parent\n",
    "\n",
    "\n",
    "def calculate_final_score(path_to_csv_file: str, vis: bool = False):\n",
    "    \"\"\" Расчет метрики по таблице с предсказаниями алгоритма \"\"\"\n",
    "    df_with_metrics = pd.read_csv(path_to_csv_file, parse_dates=['datetime'])\n",
    "    wells = list(df_with_metrics[\"Номер скважины\"].unique())\n",
    "\n",
    "    train_df = pd.read_csv(os.path.join(get_project_path(), 'data', 'train.csv'), parse_dates=['datetime'])\n",
    "    test_df = pd.read_csv(os.path.join(get_project_path(), 'data', 'test.csv'), parse_dates=['datetime'])\n",
    "    metrics = []\n",
    "    with tqdm(total=len(wells)) as pbar:\n",
    "        for well in wells:\n",
    "            well_forecast_df = df_with_metrics[df_with_metrics[\"Номер скважины\"] == well]\n",
    "            well_forecast_df = well_forecast_df.sort_values(by='datetime')\n",
    "\n",
    "            well_actual_df = test_df[test_df[\"Номер скважины\"] == well]\n",
    "            well_actual_df = well_actual_df.sort_values(by='datetime')\n",
    "\n",
    "            rmse_metric = mean_squared_error(np.array(well_actual_df['Дебит нефти']),\n",
    "                                             np.array(well_forecast_df['forecast']),\n",
    "                                             squared=False)\n",
    "            metrics.append(rmse_metric)\n",
    "\n",
    "            if vis:\n",
    "                # Create plot\n",
    "                historical_df = train_df[train_df[\"Номер скважины\"] == well]\n",
    "\n",
    "                plt.plot(historical_df['datetime'], historical_df['Дебит нефти'], label='Train')\n",
    "                plt.plot(well_actual_df['datetime'], well_actual_df['Дебит нефти'], label='Test')\n",
    "                plt.plot(well_forecast_df['datetime'], well_forecast_df['forecast'], label='Forecast')\n",
    "                plt.grid()\n",
    "                plt.legend()\n",
    "                plt.xlabel('Дата')\n",
    "                plt.ylabel('Дебит нефти')\n",
    "                plt.show()\n",
    "            pbar.update(1)\n",
    "\n",
    "    metrics = np.array(metrics)\n",
    "    return np.mean(metrics)\n",
    "\n",
    "\n",
    "\n",
    "metric = calculate_final_score(path_to_csv_file='/content/baseline_forecast.csv', vis=True)\n",
    "print(f'Метрика RMSE {metric:.2f}')\n"
   ],
   "metadata": {
    "colab": {
     "base_uri": "https://localhost:8080/",
     "height": 363
    },
    "id": "FDvKQS5sfhFB",
    "outputId": "987ff90c-924b-4247-c940-2f1766fd1789"
   },
   "execution_count": 9,
   "outputs": [
    {
     "output_type": "error",
     "ename": "NameError",
     "evalue": "ignored",
     "traceback": [
      "\u001B[0;31m---------------------------------------------------------------------------\u001B[0m",
      "\u001B[0;31mNameError\u001B[0m                                 Traceback (most recent call last)",
      "\u001B[0;32m<ipython-input-9-45137be14c2b>\u001B[0m in \u001B[0;36m<module>\u001B[0;34m()\u001B[0m\n\u001B[1;32m     56\u001B[0m \u001B[0;34m\u001B[0m\u001B[0m\n\u001B[1;32m     57\u001B[0m \u001B[0;32mif\u001B[0m \u001B[0m__name__\u001B[0m \u001B[0;34m==\u001B[0m \u001B[0;34m'__main__'\u001B[0m\u001B[0;34m:\u001B[0m\u001B[0;34m\u001B[0m\u001B[0;34m\u001B[0m\u001B[0m\n\u001B[0;32m---> 58\u001B[0;31m     \u001B[0mmetric\u001B[0m \u001B[0;34m=\u001B[0m \u001B[0mcalculate_final_score\u001B[0m\u001B[0;34m(\u001B[0m\u001B[0mpath_to_csv_file\u001B[0m\u001B[0;34m=\u001B[0m\u001B[0;34m'/content/baseline_forecast.csv'\u001B[0m\u001B[0;34m,\u001B[0m \u001B[0mvis\u001B[0m\u001B[0;34m=\u001B[0m\u001B[0;32mTrue\u001B[0m\u001B[0;34m)\u001B[0m\u001B[0;34m\u001B[0m\u001B[0;34m\u001B[0m\u001B[0m\n\u001B[0m\u001B[1;32m     59\u001B[0m     \u001B[0mprint\u001B[0m\u001B[0;34m(\u001B[0m\u001B[0;34mf'Метрика RMSE {metric:.2f}'\u001B[0m\u001B[0;34m)\u001B[0m\u001B[0;34m\u001B[0m\u001B[0;34m\u001B[0m\u001B[0m\n",
      "\u001B[0;32m<ipython-input-9-45137be14c2b>\u001B[0m in \u001B[0;36mcalculate_final_score\u001B[0;34m(path_to_csv_file, vis)\u001B[0m\n\u001B[1;32m     21\u001B[0m     \u001B[0mwells\u001B[0m \u001B[0;34m=\u001B[0m \u001B[0mlist\u001B[0m\u001B[0;34m(\u001B[0m\u001B[0mdf_with_metrics\u001B[0m\u001B[0;34m[\u001B[0m\u001B[0;34m\"Номер скважины\"\u001B[0m\u001B[0;34m]\u001B[0m\u001B[0;34m.\u001B[0m\u001B[0munique\u001B[0m\u001B[0;34m(\u001B[0m\u001B[0;34m)\u001B[0m\u001B[0;34m)\u001B[0m\u001B[0;34m\u001B[0m\u001B[0;34m\u001B[0m\u001B[0m\n\u001B[1;32m     22\u001B[0m \u001B[0;34m\u001B[0m\u001B[0m\n\u001B[0;32m---> 23\u001B[0;31m     \u001B[0mtrain_df\u001B[0m \u001B[0;34m=\u001B[0m \u001B[0mpd\u001B[0m\u001B[0;34m.\u001B[0m\u001B[0mread_csv\u001B[0m\u001B[0;34m(\u001B[0m\u001B[0mos\u001B[0m\u001B[0;34m.\u001B[0m\u001B[0mpath\u001B[0m\u001B[0;34m.\u001B[0m\u001B[0mjoin\u001B[0m\u001B[0;34m(\u001B[0m\u001B[0mget_project_path\u001B[0m\u001B[0;34m(\u001B[0m\u001B[0;34m)\u001B[0m\u001B[0;34m,\u001B[0m \u001B[0;34m'data'\u001B[0m\u001B[0;34m,\u001B[0m \u001B[0;34m'train.csv'\u001B[0m\u001B[0;34m)\u001B[0m\u001B[0;34m,\u001B[0m \u001B[0mparse_dates\u001B[0m\u001B[0;34m=\u001B[0m\u001B[0;34m[\u001B[0m\u001B[0;34m'datetime'\u001B[0m\u001B[0;34m]\u001B[0m\u001B[0;34m)\u001B[0m\u001B[0;34m\u001B[0m\u001B[0;34m\u001B[0m\u001B[0m\n\u001B[0m\u001B[1;32m     24\u001B[0m     \u001B[0mtest_df\u001B[0m \u001B[0;34m=\u001B[0m \u001B[0mpd\u001B[0m\u001B[0;34m.\u001B[0m\u001B[0mread_csv\u001B[0m\u001B[0;34m(\u001B[0m\u001B[0mos\u001B[0m\u001B[0;34m.\u001B[0m\u001B[0mpath\u001B[0m\u001B[0;34m.\u001B[0m\u001B[0mjoin\u001B[0m\u001B[0;34m(\u001B[0m\u001B[0mget_project_path\u001B[0m\u001B[0;34m(\u001B[0m\u001B[0;34m)\u001B[0m\u001B[0;34m,\u001B[0m \u001B[0;34m'data'\u001B[0m\u001B[0;34m,\u001B[0m \u001B[0;34m'test.csv'\u001B[0m\u001B[0;34m)\u001B[0m\u001B[0;34m,\u001B[0m \u001B[0mparse_dates\u001B[0m\u001B[0;34m=\u001B[0m\u001B[0;34m[\u001B[0m\u001B[0;34m'datetime'\u001B[0m\u001B[0;34m]\u001B[0m\u001B[0;34m)\u001B[0m\u001B[0;34m\u001B[0m\u001B[0;34m\u001B[0m\u001B[0m\n\u001B[1;32m     25\u001B[0m     \u001B[0mmetrics\u001B[0m \u001B[0;34m=\u001B[0m \u001B[0;34m[\u001B[0m\u001B[0;34m]\u001B[0m\u001B[0;34m\u001B[0m\u001B[0;34m\u001B[0m\u001B[0m\n",
      "\u001B[0;32m<ipython-input-9-45137be14c2b>\u001B[0m in \u001B[0;36mget_project_path\u001B[0;34m()\u001B[0m\n\u001B[1;32m     13\u001B[0m \u001B[0;34m\u001B[0m\u001B[0m\n\u001B[1;32m     14\u001B[0m \u001B[0;32mdef\u001B[0m \u001B[0mget_project_path\u001B[0m\u001B[0;34m(\u001B[0m\u001B[0;34m)\u001B[0m \u001B[0;34m->\u001B[0m \u001B[0mstr\u001B[0m\u001B[0;34m:\u001B[0m\u001B[0;34m\u001B[0m\u001B[0;34m\u001B[0m\u001B[0m\n\u001B[0;32m---> 15\u001B[0;31m     \u001B[0;32mreturn\u001B[0m \u001B[0mPath\u001B[0m\u001B[0;34m(\u001B[0m\u001B[0m__file__\u001B[0m\u001B[0;34m)\u001B[0m\u001B[0;34m.\u001B[0m\u001B[0mparent\u001B[0m\u001B[0;34m\u001B[0m\u001B[0;34m\u001B[0m\u001B[0m\n\u001B[0m\u001B[1;32m     16\u001B[0m \u001B[0;34m\u001B[0m\u001B[0m\n\u001B[1;32m     17\u001B[0m \u001B[0;34m\u001B[0m\u001B[0m\n",
      "\u001B[0;31mNameError\u001B[0m: name '__file__' is not defined"
     ]
    }
   ]
  },
  {
   "cell_type": "code",
   "source": [
    ""
   ],
   "metadata": {
    "id": "S_CWBbJQwkxV"
   },
   "execution_count": null,
   "outputs": []
  }
 ]
}