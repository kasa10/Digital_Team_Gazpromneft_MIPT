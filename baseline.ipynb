{
 "nbformat": 4,
 "nbformat_minor": 0,
 "metadata": {
  "colab": {
   "name": "baseline.ipynb",
   "provenance": [],
   "collapsed_sections": []
  },
  "kernelspec": {
   "name": "python3",
   "display_name": "Python 3"
  },
  "language_info": {
   "name": "python"
  }
 },
 "cells": [
  {
   "cell_type": "code",
   "source": [
    "#pip install pandas==1.3.0"
   ],
   "metadata": {
    "id": "nh6pkyETTnVy",
    "executionInfo": {
     "status": "ok",
     "timestamp": 1656532119157,
     "user_tz": -180,
     "elapsed": 285,
     "user": {
      "displayName": "Ольга Матыкина",
      "userId": "04516950766501403866"
     }
    },
    "pycharm": {
     "name": "#%%\n"
    }
   },
   "execution_count": 45,
   "outputs": []
  },
  {
   "cell_type": "code",
   "source": [
    "import pandas as pd\n",
    "from sklearn.model_selection import train_test_split\n",
    "df=pd.read_csv('/content/drive/MyDrive/train.csv',parse_dates=['datetime'])\n",
    "#df=pd.read_csv('/content/drive/MyDrive/interpolate.csv',parse_dates=['datetime'])\n",
    "#df=pd.read_csv('/content/drive/MyDrive/pad_data.csv',parse_dates=['datetime'])\n",
    "\n"
   ],
   "metadata": {
    "id": "_84U2_h5dqbn",
    "executionInfo": {
     "status": "ok",
     "timestamp": 1656532119560,
     "user_tz": -180,
     "elapsed": 6,
     "user": {
      "displayName": "Ольга Матыкина",
      "userId": "04516950766501403866"
     }
    }
   },
   "execution_count": 46,
   "outputs": []
  },
  {
   "cell_type": "code",
   "source": [
    "from google.colab import drive\n",
    "drive.mount('/content/drive')"
   ],
   "metadata": {
    "colab": {
     "base_uri": "https://localhost:8080/"
    },
    "id": "pfw5CE76zv0r",
    "executionInfo": {
     "status": "ok",
     "timestamp": 1656532121728,
     "user_tz": -180,
     "elapsed": 1904,
     "user": {
      "displayName": "Ольга Матыкина",
      "userId": "04516950766501403866"
     }
    },
    "outputId": "a1c111a6-9d12-402b-eb8b-95b12d601fc2"
   },
   "execution_count": 47,
   "outputs": [
    {
     "output_type": "stream",
     "name": "stdout",
     "text": [
      "Drive already mounted at /content/drive; to attempt to forcibly remount, call drive.mount(\"/content/drive\", force_remount=True).\n"
     ]
    }
   ]
  },
  {
   "cell_type": "code",
   "source": [
    "df.drop_duplicates(inplace=True)"
   ],
   "metadata": {
    "id": "wcDwM4L1S5m3",
    "executionInfo": {
     "status": "ok",
     "timestamp": 1656532121729,
     "user_tz": -180,
     "elapsed": 18,
     "user": {
      "displayName": "Ольга Матыкина",
      "userId": "04516950766501403866"
     }
    }
   },
   "execution_count": 48,
   "outputs": []
  },
  {
   "cell_type": "code",
   "source": [
    "#pip install fedot"
   ],
   "metadata": {
    "id": "i32pEu4Qieh4",
    "executionInfo": {
     "status": "ok",
     "timestamp": 1656532121731,
     "user_tz": -180,
     "elapsed": 18,
     "user": {
      "displayName": "Ольга Матыкина",
      "userId": "04516950766501403866"
     }
    }
   },
   "execution_count": 49,
   "outputs": []
  },
  {
   "cell_type": "code",
   "source": [
    "df.info()"
   ],
   "metadata": {
    "colab": {
     "base_uri": "https://localhost:8080/"
    },
    "id": "q1jVW9CWR8VT",
    "executionInfo": {
     "status": "ok",
     "timestamp": 1656532121732,
     "user_tz": -180,
     "elapsed": 19,
     "user": {
      "displayName": "Ольга Матыкина",
      "userId": "04516950766501403866"
     }
    },
    "outputId": "0eedf021-63b6-4a53-ab74-02d03b4636fe"
   },
   "execution_count": 50,
   "outputs": [
    {
     "output_type": "stream",
     "name": "stdout",
     "text": [
      "<class 'pandas.core.frame.DataFrame'>\n",
      "Int64Index: 66545 entries, 0 to 67135\n",
      "Data columns (total 20 columns):\n",
      " #   Column                       Non-Null Count  Dtype         \n",
      "---  ------                       --------------  -----         \n",
      " 0   datetime                     66545 non-null  datetime64[ns]\n",
      " 1   Номер скважины               66545 non-null  int64         \n",
      " 2   Дебит нефти                  66545 non-null  float64       \n",
      " 3   Давление забойное            64185 non-null  float64       \n",
      " 4   x                            66545 non-null  float64       \n",
      " 5   y                            66545 non-null  float64       \n",
      " 6   Объем жидкости               2874 non-null   float64       \n",
      " 7   Объем нефти                  2874 non-null   float64       \n",
      " 8   Активная мощность (ТМ)       61884 non-null  float64       \n",
      " 9   Время работы (ТМ)            62927 non-null  float64       \n",
      " 10  Газовый фактор рабочий (ТМ)  25081 non-null  float64       \n",
      " 11  Давление буферное            10184 non-null  float64       \n",
      " 12  Давление забойное от Hд      65122 non-null  float64       \n",
      " 13  Давление забойное от Pпр     41868 non-null  float64       \n",
      " 14  Давление линейное (ТМ)       66206 non-null  float64       \n",
      " 15  Давление на входе ЭЦН (ТМ)   57551 non-null  float64       \n",
      " 16  Дебит газа (ТМ)              33025 non-null  float64       \n",
      " 17  Дебит газа попутного         51033 non-null  float64       \n",
      " 18  Дебит жидкости (ТМ)          58708 non-null  float64       \n",
      " 19  Коэффициент мощности (ТМ)    63593 non-null  float64       \n",
      "dtypes: datetime64[ns](1), float64(18), int64(1)\n",
      "memory usage: 10.7 MB\n"
     ]
    }
   ]
  },
  {
   "cell_type": "code",
   "source": [
    "df.datetime.max()"
   ],
   "metadata": {
    "colab": {
     "base_uri": "https://localhost:8080/"
    },
    "id": "HnMCKPAqZhjo",
    "executionInfo": {
     "status": "ok",
     "timestamp": 1656532121734,
     "user_tz": -180,
     "elapsed": 18,
     "user": {
      "displayName": "Ольга Матыкина",
      "userId": "04516950766501403866"
     }
    },
    "outputId": "03187137-bdcb-414e-f6e6-b6863423679a"
   },
   "execution_count": 51,
   "outputs": [
    {
     "output_type": "execute_result",
     "data": {
      "text/plain": [
       "Timestamp('1992-04-26 00:00:00')"
      ]
     },
     "metadata": {},
     "execution_count": 51
    }
   ]
  },
  {
   "cell_type": "code",
   "source": [
    "test=df[df.datetime>='1992-01-13']\n",
    "test=test[test.datetime<='1992-04-11']\n",
    "train=df[df.datetime<'1992-01-13']"
   ],
   "metadata": {
    "id": "fi0-1b6jQxQ5",
    "executionInfo": {
     "status": "ok",
     "timestamp": 1656532121736,
     "user_tz": -180,
     "elapsed": 15,
     "user": {
      "displayName": "Ольга Матыкина",
      "userId": "04516950766501403866"
     }
    }
   },
   "execution_count": 52,
   "outputs": []
  },
  {
   "cell_type": "code",
   "source": [
    "import pandas as pd\n",
    "import numpy as np\n",
    "\n",
    "from fedot.api.main import Fedot\n",
    "from fedot.core.repository.tasks import TsForecastingParams\n",
    "from tqdm import tqdm\n",
    "\n",
    "FORECAST_HORIZON = 90\n"
   ],
   "metadata": {
    "id": "-8x11uqqB0Ae"
   },
   "execution_count": null,
   "outputs": []
  },
  {
   "cell_type": "markdown",
   "source": [
    "Метод для генерации единичного прогноза"
   ],
   "metadata": {
    "id": "JEodH_B_B1BA",
    "pycharm": {
     "name": "#%% md\n"
    }
   }
  },
  {
   "cell_type": "code",
   "source": [
    "\n",
    "\n",
    "def make_fit_predict(historical_values: pd.DataFrame,\n",
    "                     forecast_horizon: int = FORECAST_HORIZON):\n",
    "    \"\"\"\n",
    "    Используется одномерный временной ряд для обучения FEDOT модели\n",
    "    Затем используется временной ряд как предыстория для формирования прогноза\n",
    "    в будущее\n",
    "    \"\"\"\n",
    "    time_series = np.array(historical_values[\"Дебит нефти\"])\n",
    "\n",
    "    model = Fedot(problem='ts_forecasting',\n",
    "                  task_params=TsForecastingParams(forecast_length=forecast_horizon),\n",
    "                  timeout=0.5, preset='fast_train', n_jobs=-1)\n",
    "\n",
    "    # run AutoML model design in the same way\n",
    "    pipeline = model.fit(features=time_series, target=time_series,\n",
    "                         predefined_model='auto')\n",
    "    forecast = model.predict(time_series)\n",
    "\n",
    "    # Generate pipeline with datetime and predicted column\n",
    "    date_range = pd.date_range(start='1992-01-13', freq='1D', periods=FORECAST_HORIZON)\n",
    "    forecast_df = pd.DataFrame({'datetime': date_range, 'forecast': forecast})\n",
    "    return forecast_df\n",
    "\n",
    "\n"
   ],
   "metadata": {
    "colab": {
     "base_uri": "https://localhost:8080/"
    },
    "id": "fMWS8dC7hvW5",
    "executionInfo": {
     "status": "ok",
     "timestamp": 1656532192526,
     "user_tz": -180,
     "elapsed": 70804,
     "user": {
      "displayName": "Ольга Матыкина",
      "userId": "04516950766501403866"
     }
    },
    "outputId": "df0b9fc2-c93b-4d58-d0b3-11b2053e115a"
   },
   "execution_count": 53,
   "outputs": [
    {
     "output_type": "stream",
     "name": "stderr",
     "text": [
      "100%|██████████| 106/106 [01:10<00:00,  1.50it/s]\n"
     ]
    }
   ]
  },
  {
   "cell_type": "markdown",
   "source": [
    "Генерация прогнозов для всех скважин в выборке"
   ],
   "metadata": {
    "id": "qImUK8_oCEtx",
    "pycharm": {
     "name": "#%% md\n"
    }
   }
  },
  {
   "cell_type": "code",
   "source": [
    "def launch_baseline():\n",
    "    train_df = train\n",
    "    wells = list(train_df[\"Номер скважины\"].unique())\n",
    "\n",
    "    all_forecasts = []\n",
    "    with tqdm(total=len(wells)) as pbar:\n",
    "        for well in wells:\n",
    "            well_df = train_df[train_df[\"Номер скважины\"] == well]\n",
    "\n",
    "            # Make predictions with FEDOT framework\n",
    "            forecats_df = make_fit_predict(well_df)\n",
    "            forecats_df[\"Номер скважины\"] = [well] * len(forecats_df)\n",
    "            all_forecasts.append(forecats_df)\n",
    "\n",
    "            pbar.update(1)\n",
    "\n",
    "    all_forecasts = pd.concat(all_forecasts)\n",
    "    all_forecasts.to_csv('baseline_forecast_train.csv', index=False)\n",
    "\n",
    "\n",
    "launch_baseline()"
   ],
   "metadata": {
    "id": "gZIYF5RsB8nk"
   },
   "execution_count": null,
   "outputs": []
  },
  {
   "cell_type": "code",
   "source": [
    "predict=pd.read_csv(\"/content/baseline_forecast_train.csv\",parse_dates=[\"datetime\"])"
   ],
   "metadata": {
    "id": "UvcELQ_YW0tv",
    "executionInfo": {
     "status": "ok",
     "timestamp": 1656532192527,
     "user_tz": -180,
     "elapsed": 22,
     "user": {
      "displayName": "Ольга Матыкина",
      "userId": "04516950766501403866"
     }
    }
   },
   "execution_count": 54,
   "outputs": []
  },
  {
   "cell_type": "code",
   "source": [
    "test.drop_duplicates(subset=['Номер скважины','datetime'],inplace=True)"
   ],
   "metadata": {
    "id": "aCUEdOkperGb",
    "executionInfo": {
     "status": "ok",
     "timestamp": 1656532192529,
     "user_tz": -180,
     "elapsed": 10,
     "user": {
      "displayName": "Ольга Матыкина",
      "userId": "04516950766501403866"
     }
    }
   },
   "execution_count": 55,
   "outputs": []
  },
  {
   "cell_type": "code",
   "source": [
    "import os\n",
    "from pathlib import Path\n",
    "import pandas as pd\n",
    "import numpy as np\n",
    "import matplotlib.pyplot as plt\n",
    "\n",
    "import warnings\n",
    "warnings.filterwarnings('ignore')\n",
    "\n",
    "from sklearn.metrics import mean_squared_error\n",
    "from tqdm import tqdm\n"
   ],
   "metadata": {
    "id": "sXQwsk8JCIjG",
    "executionInfo": {
     "status": "ok",
     "timestamp": 1656532537609,
     "user_tz": -180,
     "elapsed": 272,
     "user": {
      "displayName": "Ольга Матыкина",
      "userId": "04516950766501403866"
     }
    }
   },
   "execution_count": 58,
   "outputs": []
  },
  {
   "cell_type": "markdown",
   "source": [
    "Расчет метрики"
   ],
   "metadata": {
    "id": "7g0F1p5uCMmT",
    "pycharm": {
     "name": "#%% md\n"
    }
   }
  },
  {
   "cell_type": "code",
   "source": [
    "def calculate_final_score(vis=False):\n",
    "    \"\"\" Расчет метрики по таблице с предсказаниями алгоритма \"\"\"\n",
    "    df_with_metrics = pd.read_csv(\"/content/baseline_forecast_train.csv\", parse_dates=['datetime'])\n",
    "    wells = list(df_with_metrics[\"Номер скважины\"].unique())\n",
    "\n",
    "    train_df = train#pd.read_csv(os.path.join(get_project_path(), 'data', 'train.csv'), parse_dates=['datetime'])\n",
    "    test_df = test#pd.read_csv(os.path.join(get_project_path(), 'data', 'test.csv'), parse_dates=['datetime'])\n",
    "    metrics = []\n",
    "    with tqdm(total=len(wells)) as pbar:\n",
    "        for well in wells:\n",
    "            well_forecast_df = df_with_metrics[df_with_metrics[\"Номер скважины\"] == well]\n",
    "            well_forecast_df = well_forecast_df.sort_values(by='datetime')\n",
    "\n",
    "            well_actual_df = test_df[test_df[\"Номер скважины\"] == well]\n",
    "            well_actual_df = well_actual_df.sort_values(by='datetime')\n",
    "\n",
    "            rmse_metric = mean_squared_error(np.array(well_actual_df['Дебит нефти']),\n",
    "                                             np.array(well_forecast_df['forecast']),\n",
    "                                             squared=False)\n",
    "            metrics.append(rmse_metric)\n",
    "\n",
    "            \n",
    "    \n",
    "\n",
    "            if vis:\n",
    "                # Create plot\n",
    "                historical_df = train_df[train_df[\"Номер скважины\"] == well]\n",
    "\n",
    "                plt.plot(historical_df['datetime'], historical_df['Дебит нефти'], label='Train')\n",
    "                plt.plot(well_actual_df['datetime'], well_actual_df['Дебит нефти'], label='Test')\n",
    "                plt.plot(well_forecast_df['datetime'], well_forecast_df['forecast'], label='Forecast')\n",
    "                plt.grid()\n",
    "                plt.legend()\n",
    "                plt.xlabel('Дата')\n",
    "                plt.ylabel('Дебит нефти')\n",
    "                plt.show()\n",
    "            pbar.update(1)\n",
    "\n",
    "    metrics = np.array(metrics)\n",
    "    return np.mean(metrics)\n",
    "\n",
    "\n",
    "metric = calculate_final_score( vis=False)\n",
    "print(f'Метрика RMSE {metric:.2f}')\n"
   ],
   "metadata": {
    "colab": {
     "base_uri": "https://localhost:8080/"
    },
    "id": "rsfpFaJgyuIH",
    "executionInfo": {
     "status": "ok",
     "timestamp": 1656532192915,
     "user_tz": -180,
     "elapsed": 5,
     "user": {
      "displayName": "Ольга Матыкина",
      "userId": "04516950766501403866"
     }
    },
    "outputId": "c85a1791-09ea-4844-e943-e5db1c842b3e"
   },
   "execution_count": 56,
   "outputs": [
    {
     "output_type": "stream",
     "name": "stderr",
     "text": [
      "100%|██████████| 106/106 [00:00<00:00, 323.09it/s]"
     ]
    },
    {
     "output_type": "stream",
     "name": "stdout",
     "text": [
      "Метрика RMSE 3.53\n"
     ]
    },
    {
     "output_type": "stream",
     "name": "stderr",
     "text": [
      "\n"
     ]
    }
   ]
  }
 ]
}