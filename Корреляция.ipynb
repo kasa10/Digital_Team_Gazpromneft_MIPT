{
  "nbformat": 4,
  "nbformat_minor": 0,
  "metadata": {
    "colab": {
      "name": "Корреляция.ipynb",
      "provenance": [],
      "authorship_tag": "ABX9TyMjdT0VcDfgzNWr9V18mrDm",
      "include_colab_link": true
    },
    "kernelspec": {
      "name": "python3",
      "display_name": "Python 3"
    },
    "language_info": {
      "name": "python"
    }
  },
  "cells": [
    {
      "cell_type": "markdown",
      "metadata": {
        "id": "view-in-github",
        "colab_type": "text"
      },
      "source": [
        "<a href=\"https://colab.research.google.com/github/kasa10/Digital_Team_Gazpromneft_MIPT/blob/main/%D0%9A%D0%BE%D1%80%D1%80%D0%B5%D0%BB%D1%8F%D1%86%D0%B8%D1%8F.ipynb\" target=\"_parent\"><img src=\"https://colab.research.google.com/assets/colab-badge.svg\" alt=\"Open In Colab\"/></a>"
      ]
    },
    {
      "cell_type": "code",
      "source": [
        "#  https://likegeeks.com/python-correlation-matrix/"
      ],
      "metadata": {
        "id": "lKK8h1ucmdTL"
      },
      "execution_count": null,
      "outputs": []
    },
    {
      "cell_type": "code",
      "execution_count": 10,
      "metadata": {
        "id": "f-DuWuOLlHW-"
      },
      "outputs": [],
      "source": [
        "from sklearn.datasets import load_breast_cancer\n",
        "\n",
        "import pandas as pd"
      ]
    },
    {
      "cell_type": "code",
      "source": [
        "from sklearn.model_selection import train_test_split\n",
        "df=pd.read_csv('train.csv')"
      ],
      "metadata": {
        "id": "zcH2ckNHn0mY"
      },
      "execution_count": 11,
      "outputs": []
    },
    {
      "cell_type": "code",
      "source": [
        "print(df.shape)\n",
        "\n",
        "print(features)\n",
        "\n",
        "print(df.info())\n",
        "\n",
        "print(df.keys())"
      ],
      "metadata": {
        "id": "4pCNNXR8nvYK"
      },
      "execution_count": null,
      "outputs": []
    },
    {
      "cell_type": "code",
      "source": [
        "import seaborn as sns\n",
        "\n",
        "import matplotlib.pyplot as plt\n",
        "\n"
      ],
      "metadata": {
        "id": "XNATa9JwlQYt"
      },
      "execution_count": 17,
      "outputs": []
    },
    {
      "cell_type": "code",
      "source": [
        "correlation_mat = df_small.corr()\n",
        "\n",
        "plt.figure(figsize=(20, 20))\n",
        "sns.heatmap(correlation_mat, annot = True)\n",
        "\n",
        "plt.title(\"Correlation matrix of All parameters\")\n",
        "\n",
        "plt.xlabel(\"well param\")\n",
        "\n",
        "plt.ylabel(\"well param\")\n",
        "\n",
        "plt.show()"
      ],
      "metadata": {
        "id": "EEjRtyo0lYnQ"
      },
      "execution_count": null,
      "outputs": []
    },
    {
      "cell_type": "code",
      "source": [
        "sorted_pairs = corr_pairs.sort_values(kind=\"quicksort\")\n",
        "\n",
        "print(sorted_pairs['Дебит нефти'])"
      ],
      "metadata": {
        "id": "-87qYTwolwRi"
      },
      "execution_count": null,
      "outputs": []
    },
    {
      "cell_type": "code",
      "source": [
        "strong_pairs = sorted_pairs[abs(sorted_pairs) > 0.3]\n",
        "print(strong_pairs)\n",
        "# Вывод изображения есть по ссылке в начале"
      ],
      "metadata": {
        "id": "sie17YxomFHz"
      },
      "execution_count": null,
      "outputs": []
    }
  ]
}