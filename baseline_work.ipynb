{
  "nbformat": 4,
  "nbformat_minor": 0,
  "metadata": {
    "colab": {
      "name": "baseline.ipynb",
      "provenance": [],
      "collapsed_sections": [],
      "mount_file_id": "1L1-sVwdBCC4hMRTmHP78LE8LnYWafZXo",
      "authorship_tag": "ABX9TyP5ws7e3A76l/lSQxpEVCdI",
      "include_colab_link": true
    },
    "kernelspec": {
      "name": "python3",
      "display_name": "Python 3"
    },
    "language_info": {
      "name": "python"
    }
  },
  "cells": [
    {
      "cell_type": "markdown",
      "metadata": {
        "id": "view-in-github",
        "colab_type": "text"
      },
      "source": [
        "<a href=\"https://colab.research.google.com/github/kasa10/Digital_Team_Gazpromneft_MIPT/blob/main/baseline_work.ipynb\" target=\"_parent\"><img src=\"https://colab.research.google.com/assets/colab-badge.svg\" alt=\"Open In Colab\"/></a>"
      ]
    },
    {
      "cell_type": "code",
      "source": [
        "#pip install pandas==1.3.0"
      ],
      "metadata": {
        "id": "nh6pkyETTnVy"
      },
      "execution_count": 140,
      "outputs": []
    },
    {
      "cell_type": "code",
      "source": [
        "import pandas as pd\n",
        "from sklearn.model_selection import train_test_split\n",
        "df=pd.read_csv('/content/drive/MyDrive/pad+linear_interpolate_data.csv',parse_dates=['datetime'])\n",
        "\n"
      ],
      "metadata": {
        "id": "_84U2_h5dqbn"
      },
      "execution_count": 141,
      "outputs": []
    },
    {
      "cell_type": "code",
      "source": [
        "df.drop_duplicates(inplace=True)"
      ],
      "metadata": {
        "id": "wcDwM4L1S5m3"
      },
      "execution_count": 142,
      "outputs": []
    },
    {
      "cell_type": "code",
      "source": [
        "#pip install fedot"
      ],
      "metadata": {
        "id": "i32pEu4Qieh4"
      },
      "execution_count": 143,
      "outputs": []
    },
    {
      "cell_type": "code",
      "source": [
        "df.info()"
      ],
      "metadata": {
        "colab": {
          "base_uri": "https://localhost:8080/"
        },
        "id": "q1jVW9CWR8VT",
        "outputId": "a6b64c1a-aa5f-442f-be9e-4f3c0771fcec"
      },
      "execution_count": 144,
      "outputs": [
        {
          "output_type": "stream",
          "name": "stdout",
          "text": [
            "<class 'pandas.core.frame.DataFrame'>\n",
            "Int64Index: 66545 entries, 0 to 67135\n",
            "Data columns (total 20 columns):\n",
            " #   Column                       Non-Null Count  Dtype         \n",
            "---  ------                       --------------  -----         \n",
            " 0   datetime                     66545 non-null  datetime64[ns]\n",
            " 1   Номер скважины               66545 non-null  int64         \n",
            " 2   Дебит нефти                  66545 non-null  float64       \n",
            " 3   Давление забойное            66545 non-null  float64       \n",
            " 4   x                            66545 non-null  float64       \n",
            " 5   y                            66545 non-null  float64       \n",
            " 6   Объем жидкости               66545 non-null  float64       \n",
            " 7   Объем нефти                  66545 non-null  float64       \n",
            " 8   Активная мощность (ТМ)       66545 non-null  float64       \n",
            " 9   Время работы (ТМ)            66545 non-null  float64       \n",
            " 10  Газовый фактор рабочий (ТМ)  66545 non-null  float64       \n",
            " 11  Давление буферное            66545 non-null  float64       \n",
            " 12  Давление забойное от Hд      66545 non-null  float64       \n",
            " 13  Давление забойное от Pпр     66545 non-null  float64       \n",
            " 14  Давление линейное (ТМ)       66545 non-null  float64       \n",
            " 15  Давление на входе ЭЦН (ТМ)   66545 non-null  float64       \n",
            " 16  Дебит газа (ТМ)              66545 non-null  float64       \n",
            " 17  Дебит газа попутного         66545 non-null  float64       \n",
            " 18  Дебит жидкости (ТМ)          66545 non-null  float64       \n",
            " 19  Коэффициент мощности (ТМ)    66545 non-null  float64       \n",
            "dtypes: datetime64[ns](1), float64(18), int64(1)\n",
            "memory usage: 10.7 MB\n"
          ]
        }
      ]
    },
    {
      "cell_type": "code",
      "source": [
        "df.datetime.max()"
      ],
      "metadata": {
        "colab": {
          "base_uri": "https://localhost:8080/"
        },
        "id": "HnMCKPAqZhjo",
        "outputId": "e8b84d2b-0d59-4888-f150-365a658426bc"
      },
      "execution_count": 145,
      "outputs": [
        {
          "output_type": "execute_result",
          "data": {
            "text/plain": [
              "Timestamp('1992-04-26 00:00:00')"
            ]
          },
          "metadata": {},
          "execution_count": 145
        }
      ]
    },
    {
      "cell_type": "code",
      "source": [
        "test=df[df.datetime>='1992-01-13']\n",
        "test=test[test.datetime<='1992-04-11']\n",
        "train=df[df.datetime<'1992-01-13']"
      ],
      "metadata": {
        "id": "fi0-1b6jQxQ5"
      },
      "execution_count": 146,
      "outputs": []
    },
    {
      "cell_type": "code",
      "source": [
        "import pandas as pd\n",
        "import numpy as np\n",
        "\n",
        "from fedot.api.main import Fedot\n",
        "from fedot.core.repository.tasks import TsForecastingParams\n",
        "from tqdm import tqdm\n",
        "\n",
        "FORECAST_HORIZON = 90\n",
        "\n",
        "\n",
        "def make_fit_predict(historical_values: pd.DataFrame,\n",
        "                     forecast_horizon: int = FORECAST_HORIZON):\n",
        "    \"\"\"\n",
        "    Используется одномерный временной ряд для обучения FEDOT модели\n",
        "    Затем используется временной ряд как предыстория для формирования прогноза\n",
        "    в будущее\n",
        "    \"\"\"\n",
        "    time_series = np.array(historical_values[\"Дебит нефти\"])\n",
        "\n",
        "    model = Fedot(problem='ts_forecasting',\n",
        "                  task_params=TsForecastingParams(forecast_length=forecast_horizon),\n",
        "                  timeout=0.5, preset='fast_train', n_jobs=-1)\n",
        "\n",
        "    # run AutoML model design in the same way\n",
        "    pipeline = model.fit(features=time_series, target=time_series,\n",
        "                         predefined_model='auto')\n",
        "    forecast = model.predict(time_series)\n",
        "\n",
        "    # Generate pipeline with datetime and predicted column\n",
        "    date_range = pd.date_range(start='1992-01-13', freq='1D', periods=FORECAST_HORIZON)\n",
        "    forecast_df = pd.DataFrame({'datetime': date_range, 'forecast': forecast})\n",
        "    return forecast_df\n",
        "\n",
        "\n",
        "def launch_baseline():\n",
        "    train_df = train\n",
        "    wells = list(train_df[\"Номер скважины\"].unique())\n",
        "\n",
        "    all_forecasts = []\n",
        "    with tqdm(total=len(wells)) as pbar:\n",
        "        for well in wells:\n",
        "            well_df = train_df[train_df[\"Номер скважины\"] == well]\n",
        "\n",
        "            # Make predictions with FEDOT framework\n",
        "            forecats_df = make_fit_predict(well_df)\n",
        "            forecats_df[\"Номер скважины\"] = [well] * len(forecats_df)\n",
        "            all_forecasts.append(forecats_df)\n",
        "\n",
        "            pbar.update(1)\n",
        "\n",
        "    all_forecasts = pd.concat(all_forecasts)\n",
        "    all_forecasts.to_csv('baseline_forecast_train.csv', index=False)\n",
        "\n",
        "\n",
        "launch_baseline()"
      ],
      "metadata": {
        "colab": {
          "base_uri": "https://localhost:8080/"
        },
        "id": "fMWS8dC7hvW5",
        "outputId": "fe48d4ec-555a-484d-c50b-f1d5bd6de843"
      },
      "execution_count": 147,
      "outputs": [
        {
          "output_type": "stream",
          "name": "stderr",
          "text": [
            "100%|██████████| 106/106 [01:02<00:00,  1.69it/s]\n"
          ]
        }
      ]
    },
    {
      "cell_type": "code",
      "source": [
        "predict=pd.read_csv(\"/content/baseline_forecast_train.csv\",parse_dates=[\"datetime\"])"
      ],
      "metadata": {
        "id": "UvcELQ_YW0tv"
      },
      "execution_count": 148,
      "outputs": []
    },
    {
      "cell_type": "code",
      "source": [
        "test.drop_duplicates(subset=['Номер скважины','datetime'],inplace=True)"
      ],
      "metadata": {
        "id": "aCUEdOkperGb"
      },
      "execution_count": 149,
      "outputs": []
    },
    {
      "cell_type": "code",
      "source": [
        "import os\n",
        "from pathlib import Path\n",
        "import pandas as pd\n",
        "import numpy as np\n",
        "import matplotlib.pyplot as plt\n",
        "\n",
        "import warnings\n",
        "warnings.filterwarnings('ignore')\n",
        "\n",
        "from sklearn.metrics import mean_squared_error\n",
        "from tqdm import tqdm\n",
        "\n",
        "\n",
        "def calculate_final_score():\n",
        "    \"\"\" Расчет метрики по таблице с предсказаниями алгоритма \"\"\"\n",
        "    df_with_metrics = pd.read_csv(\"/content/baseline_forecast_train.csv\", parse_dates=['datetime'])\n",
        "    wells = list(df_with_metrics[\"Номер скважины\"].unique())\n",
        "\n",
        "    #train_df = pd.read_csv(os.path.join(get_project_path(), 'data', 'train.csv'), parse_dates=['datetime'])\n",
        "    test_df = test#pd.read_csv(os.path.join(get_project_path(), 'data', 'test.csv'), parse_dates=['datetime'])\n",
        "    metrics = []\n",
        "    with tqdm(total=len(wells)) as pbar:\n",
        "        for well in wells:\n",
        "            well_forecast_df = df_with_metrics[df_with_metrics[\"Номер скважины\"] == well]\n",
        "            well_forecast_df = well_forecast_df.sort_values(by='datetime')\n",
        "\n",
        "            well_actual_df = test_df[test_df[\"Номер скважины\"] == well]\n",
        "            well_actual_df = well_actual_df.sort_values(by='datetime')\n",
        "\n",
        "            rmse_metric = mean_squared_error(np.array(well_actual_df['Дебит нефти']),\n",
        "                                             np.array(well_forecast_df['forecast']),\n",
        "                                             squared=False)\n",
        "            metrics.append(rmse_metric)\n",
        "\n",
        "            \n",
        "    metrics = np.array(metrics)\n",
        "    return np.mean(metrics)\n",
        "\n",
        "\n",
        "\n",
        "metric = calculate_final_score()\n",
        "print(f'Метрика RMSE {metric:.2f}')\n"
      ],
      "metadata": {
        "colab": {
          "base_uri": "https://localhost:8080/"
        },
        "id": "S_CWBbJQwkxV",
        "outputId": "231f929e-9707-45af-9f1d-de2b3b5b949d"
      },
      "execution_count": 150,
      "outputs": [
        {
          "output_type": "stream",
          "name": "stderr",
          "text": [
            "  0%|          | 0/106 [00:00<?, ?it/s]"
          ]
        },
        {
          "output_type": "stream",
          "name": "stdout",
          "text": [
            "Метрика RMSE 3.53\n"
          ]
        },
        {
          "output_type": "stream",
          "name": "stderr",
          "text": [
            "\n"
          ]
        }
      ]
    }
  ]
}