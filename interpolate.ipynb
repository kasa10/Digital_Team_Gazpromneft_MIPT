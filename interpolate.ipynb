{
  "nbformat": 4,
  "nbformat_minor": 0,
  "metadata": {
    "colab": {
      "name": "interpolate.ipynb",
      "provenance": [],
      "collapsed_sections": [],
      "authorship_tag": "ABX9TyNJNV7Yrlv9lt4O6Jt33MwH",
      "include_colab_link": true
    },
    "kernelspec": {
      "name": "python3",
      "display_name": "Python 3"
    },
    "language_info": {
      "name": "python"
    }
  },
  "cells": [
    {
      "cell_type": "markdown",
      "metadata": {
        "id": "view-in-github",
        "colab_type": "text"
      },
      "source": [
        "<a href=\"https://colab.research.google.com/github/kasa10/Digital_Team_Gazpromneft_MIPT/blob/main/interpolate.ipynb\" target=\"_parent\"><img src=\"https://colab.research.google.com/assets/colab-badge.svg\" alt=\"Open In Colab\"/></a>"
      ]
    },
    {
      "cell_type": "markdown",
      "source": [
        "**Explore**"
      ],
      "metadata": {
        "id": "6fzNZ4uWhfW6"
      }
    },
    {
      "cell_type": "markdown",
      "source": [
        "В этой части мы выводим таблицу и информацию о структуре данных"
      ],
      "metadata": {
        "id": "oS4jb0q1O0GG"
      }
    },
    {
      "cell_type": "code",
      "source": [
        "import pandas as pd\n",
        "pd.set_option('max_rows', 10) #Здесь можно настроить максимально возможную длинну столбца \n",
        "\n",
        "\n",
        "def explore_data():\n",
        "    \"\"\" Make some visualizations and collect statistics about data in files \"\"\"\n",
        "    train = pd.read_csv('train.csv')\n",
        "    #test = pd.read_csv('../data/test.csv')\n",
        "\n",
        "    print(f'Размер train таблицы {train.shape}')\n",
        "    #print(f'Размер test таблицы {test.shape}')\n",
        "\n",
        "    print(f'Количество уникальных скважин в train таблице: {len(train[\"Номер скважины\"].unique())}')\n",
        "    #print(f'Количество уникальных скважин в test таблице: {len(test[\"Номер скважины\"].unique())}')\n",
        "\n",
        "    wells = list(train[\"Номер скважины\"].unique())\n",
        "    #print(wells) список\n",
        "    well_df = train[train[\"Номер скважины\"] == wells[0]]\n",
        "    print(well_df)\n",
        "    print(f'Размер таблицы с данными для одной скважины {well_df.shape}')\n",
        "\n",
        "\n",
        "if __name__ == '__main__':\n",
        "    explore_data()\n"
      ],
      "metadata": {
        "colab": {
          "base_uri": "https://localhost:8080/"
        },
        "id": "7oiVIyxjhf1d",
        "outputId": "d4459616-c258-4c63-cef4-b2441d4583b1"
      },
      "execution_count": 14,
      "outputs": [
        {
          "output_type": "stream",
          "name": "stdout",
          "text": [
            "Размер train таблицы (67136, 20)\n",
            "Количество уникальных скважин в train таблице: 106\n",
            "       datetime  Номер скважины  Дебит нефти  Давление забойное         x  \\\n",
            "0    1990-08-01               0    19.939000                NaN  18670.86   \n",
            "1    1990-08-02               0    19.939000          39.064454  18670.86   \n",
            "2    1990-08-03               0    21.172000          39.064487  18670.86   \n",
            "3    1990-08-04               0    22.529000          38.965297  18670.86   \n",
            "4    1990-08-05               0    22.529000          38.766822  18670.86   \n",
            "..          ...             ...          ...                ...       ...   \n",
            "615  1992-04-07               0     4.534759                NaN  18670.86   \n",
            "616  1992-04-08               0     4.535000          51.641410  18670.86   \n",
            "617  1992-04-09               0    14.877000          51.641410  18670.86   \n",
            "618  1992-04-10               0    14.459000          51.641410  18670.86   \n",
            "619  1992-04-11               0    15.434333          51.641413  18670.86   \n",
            "\n",
            "           y  Объем жидкости  Объем нефти  Активная мощность (ТМ)  \\\n",
            "0    5714.86             NaN          NaN                     NaN   \n",
            "1    5714.86             NaN          NaN               50.851351   \n",
            "2    5714.86             NaN          NaN               52.353846   \n",
            "3    5714.86             NaN          NaN               51.242424   \n",
            "4    5714.86             NaN          NaN               50.910256   \n",
            "..       ...             ...          ...                     ...   \n",
            "615  5714.86             NaN          NaN               44.708242   \n",
            "616  5714.86          33.828        9.889               54.519231   \n",
            "617  5714.86             NaN          NaN               49.105645   \n",
            "618  5714.86             NaN          NaN               47.659574   \n",
            "619  5714.86             NaN          NaN               52.759000   \n",
            "\n",
            "     Время работы (ТМ)  Газовый фактор рабочий (ТМ)  Давление буферное  \\\n",
            "0                  NaN                          NaN                NaN   \n",
            "1             9.600833                          NaN                NaN   \n",
            "2                  NaN                          NaN                NaN   \n",
            "3             9.600000                          NaN                NaN   \n",
            "4             9.563889                          NaN                NaN   \n",
            "..                 ...                          ...                ...   \n",
            "615          23.196667                        0.305               19.0   \n",
            "616          24.000000                     1082.815               19.1   \n",
            "617          17.493333                      347.769               19.0   \n",
            "618          13.103889                     2557.026                NaN   \n",
            "619           8.991389                     2226.037                NaN   \n",
            "\n",
            "     Давление забойное от Hд  Давление забойное от Pпр  \\\n",
            "0                        NaN                       NaN   \n",
            "1                  33.913336                 39.064454   \n",
            "2                  33.806090                 39.064487   \n",
            "3                  33.695717                 38.965297   \n",
            "4                  33.695717                 38.766822   \n",
            "..                       ...                       ...   \n",
            "615                44.968977                       NaN   \n",
            "616                72.821991                 51.641410   \n",
            "617                72.821991                 51.641410   \n",
            "618                72.821991                 51.641410   \n",
            "619                72.813182                 51.641413   \n",
            "\n",
            "     Давление линейное (ТМ)  Давление на входе ЭЦН (ТМ)  Дебит газа (ТМ)  \\\n",
            "0                       NaN                         NaN              NaN   \n",
            "1                  1.887872                   30.293676      3843.746667   \n",
            "2                  1.885714                   30.261774      3900.955000   \n",
            "3                  1.875851                   30.212768      3874.505000   \n",
            "4                  1.873163                   30.109119      3853.696667   \n",
            "..                      ...                         ...              ...   \n",
            "615               18.439856                   96.473846      3958.510000   \n",
            "616               18.513522                   44.647183     42089.130000   \n",
            "617               18.556090                   31.123179      3236.710000   \n",
            "618               19.222082                   34.262745     23775.530000   \n",
            "619               18.515223                   36.281319      9781.680000   \n",
            "\n",
            "     Дебит газа попутного  Дебит жидкости (ТМ)  Коэффициент мощности (ТМ)  \n",
            "0                     NaN                  NaN                        NaN  \n",
            "1                   24.25            24.250000                  98.534314  \n",
            "2                   25.75            25.833333                  99.139785  \n",
            "3                   27.40            27.933333                  98.744318  \n",
            "4                   27.40            27.400000                  98.419689  \n",
            "..                    ...                  ...                        ...  \n",
            "615                   NaN            67.400000                  84.384615  \n",
            "616                 25.00            61.900000                  85.792308  \n",
            "617                 26.00            18.266667                  83.395161  \n",
            "618                 25.27            25.266667                  79.680851  \n",
            "619                   NaN            11.725000                  85.470000  \n",
            "\n",
            "[620 rows x 20 columns]\n",
            "Размер таблицы с данными для одной скважины (620, 20)\n"
          ]
        }
      ]
    },
    {
      "cell_type": "markdown",
      "source": [
        "Здесь смотрим пропуски в данных"
      ],
      "metadata": {
        "id": "rdIUSR3PrEc5"
      }
    },
    {
      "cell_type": "code",
      "source": [
        "train = pd.read_csv('train.csv')\n",
        "wells = list(train[\"Номер скважины\"].unique())\n",
        "well_df = train[train[\"Номер скважины\"] == wells[0]]\n",
        "print(\"Количество пропусков в данных (из 620): \")\n",
        "\n",
        "for i in range(2, 20):\n",
        "  print(f'{well_df.keys()[i]} {well_df[well_df.keys()[i]][0:-1].isnull().sum()}')\n",
        "\n",
        "  "
      ],
      "metadata": {
        "colab": {
          "base_uri": "https://localhost:8080/"
        },
        "id": "u26P_1okp9Mx",
        "outputId": "005fa1c6-078c-4dfb-ce03-403c0adee722"
      },
      "execution_count": 15,
      "outputs": [
        {
          "output_type": "stream",
          "name": "stdout",
          "text": [
            "Количество пропусков в данных (из 620): \n",
            "Дебит нефти 0\n",
            "Давление забойное 70\n",
            "x 0\n",
            "y 0\n",
            "Объем жидкости 598\n",
            "Объем нефти 598\n",
            "Активная мощность (ТМ) 75\n",
            "Время работы (ТМ) 75\n",
            "Газовый фактор рабочий (ТМ) 330\n",
            "Давление буферное 528\n",
            "Давление забойное от Hд 3\n",
            "Давление забойное от Pпр 166\n",
            "Давление линейное (ТМ) 2\n",
            "Давление на входе ЭЦН (ТМ) 47\n",
            "Дебит газа (ТМ) 127\n",
            "Дебит газа попутного 239\n",
            "Дебит жидкости (ТМ) 132\n",
            "Коэффициент мощности (ТМ) 69\n"
          ]
        }
      ]
    },
    {
      "cell_type": "markdown",
      "source": [
        "Смотрим таблички"
      ],
      "metadata": {
        "id": "T64DXeCPySLv"
      }
    },
    {
      "cell_type": "code",
      "source": [
        "pd.set_option('max_rows', 1000)\n",
        "%matplotlib inline\n",
        "\n",
        "well_df = train[train[\"Номер скважины\"] == wells[0]]\n",
        "print(train['Газовый фактор рабочий (ТМ)'])\n",
        "\n",
        "well_df.plot(y=['Газовый фактор рабочий (ТМ)'])"
      ],
      "metadata": {
        "colab": {
          "base_uri": "https://localhost:8080/",
          "height": 502
        },
        "id": "2HRaT4G_yVid",
        "outputId": "b4284072-678b-483f-ff1d-29fb5c6ac7c3"
      },
      "execution_count": 16,
      "outputs": [
        {
          "output_type": "stream",
          "name": "stdout",
          "text": [
            "0       NaN\n",
            "1       NaN\n",
            "2       NaN\n",
            "3       NaN\n",
            "4       NaN\n",
            "         ..\n",
            "67131   NaN\n",
            "67132   NaN\n",
            "67133   NaN\n",
            "67134   NaN\n",
            "67135   NaN\n",
            "Name: Газовый фактор рабочий (ТМ), Length: 67136, dtype: float64\n"
          ]
        },
        {
          "output_type": "execute_result",
          "data": {
            "text/plain": [
              "<matplotlib.axes._subplots.AxesSubplot at 0x7fa7a45eb750>"
            ]
          },
          "metadata": {},
          "execution_count": 16
        },
        {
          "output_type": "display_data",
          "data": {
            "text/plain": [
              "<Figure size 432x288 with 1 Axes>"
            ],
            "image/png": "[encoded data removed]"
          },
          "metadata": {
            "needs_background": "light"
          }
        }
      ]
    },
    {
      "cell_type": "markdown",
      "source": [
        "**Интерполяция данных и создание файла .csv**"
      ],
      "metadata": {
        "id": "NkYqSxjait0p"
      }
    },
    {
      "cell_type": "code",
      "source": [
        "#pd.set_option('max_rows', 1000)\n",
        "from google.colab import files\n",
        "%matplotlib inline\n",
        "\n",
        "wells = list(train[\"Номер скважины\"].unique())\n",
        "well_df = train\n",
        "\n",
        "train_int = train.interpolate()\n",
        "train_int_int = train_int.interpolate(limit_direction ='backward')\n",
        "\n",
        "print(train_int_int.isnull().sum())\n",
        "print(train_int_int['Давление буферное'])\n",
        "\n",
        "print(train_int_int)\n",
        "\n",
        "train_int_int.to_csv('linear_interpolate_data.csv') \n",
        "files.download('linear_interpolate_data.csv')"
      ],
      "metadata": {
        "colab": {
          "base_uri": "https://localhost:8080/",
          "height": 1000
        },
        "id": "qjAZGjBcx1Bx",
        "outputId": "a3648101-ff50-4254-cac9-66ef4e21b869"
      },
      "execution_count": 18,
      "outputs": [
        {
          "output_type": "stream",
          "name": "stdout",
          "text": [
            "datetime                       0\n",
            "Номер скважины                 0\n",
            "Дебит нефти                    0\n",
            "Давление забойное              0\n",
            "x                              0\n",
            "y                              0\n",
            "Объем жидкости                 0\n",
            "Объем нефти                    0\n",
            "Активная мощность (ТМ)         0\n",
            "Время работы (ТМ)              0\n",
            "Газовый фактор рабочий (ТМ)    0\n",
            "Давление буферное              0\n",
            "Давление забойное от Hд        0\n",
            "Давление забойное от Pпр       0\n",
            "Давление линейное (ТМ)         0\n",
            "Давление на входе ЭЦН (ТМ)     0\n",
            "Дебит газа (ТМ)                0\n",
            "Дебит газа попутного           0\n",
            "Дебит жидкости (ТМ)            0\n",
            "Коэффициент мощности (ТМ)      0\n",
            "dtype: int64\n",
            "0        20.0\n",
            "1        20.0\n",
            "2        20.0\n",
            "3        20.0\n",
            "4        20.0\n",
            "         ... \n",
            "67131    13.0\n",
            "67132    13.0\n",
            "67133    13.0\n",
            "67134    13.0\n",
            "67135    13.0\n",
            "Name: Давление буферное, Length: 67136, dtype: float64\n",
            "         datetime  Номер скважины  Дебит нефти  Давление забойное         x  \\\n",
            "0      1990-08-01               0       19.939          39.064454  18670.86   \n",
            "1      1990-08-02               0       19.939          39.064454  18670.86   \n",
            "2      1990-08-03               0       21.172          39.064487  18670.86   \n",
            "3      1990-08-04               0       22.529          38.965297  18670.86   \n",
            "4      1990-08-05               0       22.529          38.766822  18670.86   \n",
            "...           ...             ...          ...                ...       ...   \n",
            "67131  1992-04-07             105        7.646         122.180672  14230.22   \n",
            "67132  1992-04-08             105        7.639         122.182381  14230.22   \n",
            "67133  1992-04-09             105        7.657         122.183551  14230.22   \n",
            "67134  1992-04-10             105        7.654         122.180372  14230.22   \n",
            "67135  1992-04-11             105        7.653         122.180912  14230.22   \n",
            "\n",
            "              y  Объем жидкости  Объем нефти  Активная мощность (ТМ)  \\\n",
            "0       5714.86      788.311000   757.568000               50.851351   \n",
            "1       5714.86      788.311000   757.568000               50.851351   \n",
            "2       5714.86      788.311000   757.568000               52.353846   \n",
            "3       5714.86      788.311000   757.568000               51.242424   \n",
            "4       5714.86      788.311000   757.568000               50.910256   \n",
            "...         ...             ...          ...                     ...   \n",
            "67131  22456.04    15476.632645   164.809452              252.298969   \n",
            "67132  22456.04    15472.802000   161.526000              251.647423   \n",
            "67133  22456.04    15472.802000   161.526000              251.713542   \n",
            "67134  22456.04    15472.802000   161.526000              251.504167   \n",
            "67135  22456.04    15472.802000   161.526000              251.987629   \n",
            "\n",
            "       Время работы (ТМ)  Газовый фактор рабочий (ТМ)  Давление буферное  \\\n",
            "0               9.600833                      239.555               20.0   \n",
            "1               9.600833                      239.555               20.0   \n",
            "2               9.600417                      239.555               20.0   \n",
            "3               9.600000                      239.555               20.0   \n",
            "4               9.563889                      239.555               20.0   \n",
            "...                  ...                          ...                ...   \n",
            "67131          24.000000                       64.000               13.0   \n",
            "67132          24.000000                       64.000               13.0   \n",
            "67133          24.000000                       64.000               13.0   \n",
            "67134          24.000000                       64.000               13.0   \n",
            "67135          24.000000                       64.000               13.0   \n",
            "\n",
            "       Давление забойное от Hд  Давление забойное от Pпр  \\\n",
            "0                    33.913336                 39.064454   \n",
            "1                    33.913336                 39.064454   \n",
            "2                    33.806090                 39.064487   \n",
            "3                    33.695717                 38.965297   \n",
            "4                    33.695717                 38.766822   \n",
            "...                        ...                       ...   \n",
            "67131               122.180672                 99.535735   \n",
            "67132               122.182381                 99.202518   \n",
            "67133               122.183551                 99.119048   \n",
            "67134               122.180372                 98.744075   \n",
            "67135               122.180912                 98.691864   \n",
            "\n",
            "       Давление линейное (ТМ)  Давление на входе ЭЦН (ТМ)  Дебит газа (ТМ)  \\\n",
            "0                    1.887872                   30.293676      3843.746667   \n",
            "1                    1.887872                   30.293676      3843.746667   \n",
            "2                    1.885714                   30.261774      3900.955000   \n",
            "3                    1.875851                   30.212768      3874.505000   \n",
            "4                    1.873163                   30.109119      3853.696667   \n",
            "...                       ...                         ...              ...   \n",
            "67131               11.548286                   20.536082        12.000000   \n",
            "67132               11.556784                   20.459184        12.000000   \n",
            "67133               11.583542                   20.104167        12.000000   \n",
            "67134               11.601396                   20.052083        12.000000   \n",
            "67135               11.622640                   20.268041        12.000000   \n",
            "\n",
            "       Дебит газа попутного  Дебит жидкости (ТМ)  Коэффициент мощности (ТМ)  \n",
            "0                     24.25            24.250000                  98.534314  \n",
            "1                     24.25            24.250000                  98.534314  \n",
            "2                     25.75            25.833333                  99.139785  \n",
            "3                     27.40            27.933333                  98.744318  \n",
            "4                     27.40            27.400000                  98.419689  \n",
            "...                     ...                  ...                        ...  \n",
            "67131                451.36           451.358333                  72.876289  \n",
            "67132                450.97           450.972727                  72.855670  \n",
            "67133                452.03           452.027273                  72.302083  \n",
            "67134                451.85           451.850000                  72.041667  \n",
            "67135                451.80           451.800000                  72.309278  \n",
            "\n",
            "[67136 rows x 20 columns]\n"
          ]
        },
        {
          "output_type": "display_data",
          "data": {
            "text/plain": [
              "<IPython.core.display.Javascript object>"
            ],
            "application/javascript": [
              "\n",
              "    async function download(id, filename, size) {\n",
              "      if (!google.colab.kernel.accessAllowed) {\n",
              "        return;\n",
              "      }\n",
              "      const div = document.createElement('div');\n",
              "      const label = document.createElement('label');\n",
              "      label.textContent = `Downloading \"${filename}\": `;\n",
              "      div.appendChild(label);\n",
              "      const progress = document.createElement('progress');\n",
              "      progress.max = size;\n",
              "      div.appendChild(progress);\n",
              "      document.body.appendChild(div);\n",
              "\n",
              "      const buffers = [];\n",
              "      let downloaded = 0;\n",
              "\n",
              "      const channel = await google.colab.kernel.comms.open(id);\n",
              "      // Send a message to notify the kernel that we're ready.\n",
              "      channel.send({})\n",
              "\n",
              "      for await (const message of channel.messages) {\n",
              "        // Send a message to notify the kernel that we're ready.\n",
              "        channel.send({})\n",
              "        if (message.buffers) {\n",
              "          for (const buffer of message.buffers) {\n",
              "            buffers.push(buffer);\n",
              "            downloaded += buffer.byteLength;\n",
              "            progress.value = downloaded;\n",
              "          }\n",
              "        }\n",
              "      }\n",
              "      const blob = new Blob(buffers, {type: 'application/binary'});\n",
              "      const a = document.createElement('a');\n",
              "      a.href = window.URL.createObjectURL(blob);\n",
              "      a.download = filename;\n",
              "      div.appendChild(a);\n",
              "      a.click();\n",
              "      div.remove();\n",
              "    }\n",
              "  "
            ]
          },
          "metadata": {}
        },
        {
          "output_type": "display_data",
          "data": {
            "text/plain": [
              "<IPython.core.display.Javascript object>"
            ],
            "application/javascript": [
              "download(\"download_c50f2f4c-fb19-4d62-a784-a13104310e8b\", \"linear_interpolate_data.csv\", 18405946)"
            ]
          },
          "metadata": {}
        }
      ]
    }
  ]
}